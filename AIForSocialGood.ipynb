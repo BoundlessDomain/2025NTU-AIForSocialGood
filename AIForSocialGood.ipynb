{
  "nbformat": 4,
  "nbformat_minor": 0,
  "metadata": {
    "colab": {
      "provenance": [],
      "gpuType": "V28",
      "authorship_tag": "ABX9TyPlAiMZ3yJKnWuNDrHw6n8x",
      "include_colab_link": true
    },
    "kernelspec": {
      "name": "python3",
      "display_name": "Python 3"
    },
    "language_info": {
      "name": "python"
    },
    "accelerator": "TPU"
  },
  "cells": [
    {
      "cell_type": "markdown",
      "metadata": {
        "id": "view-in-github",
        "colab_type": "text"
      },
      "source": [
        "<a href=\"https://colab.research.google.com/github/BoundlessDomain/2025NTU-AIForSocialGood/blob/main/AIForSocialGood.ipynb\" target=\"_parent\"><img src=\"https://colab.research.google.com/assets/colab-badge.svg\" alt=\"Open In Colab\"/></a>"
      ]
    },
    {
      "cell_type": "markdown",
      "source": [
        "# Place holder main title\n",
        "\n",
        "---\n",
        "\n",
        "Dataset from Kaggle: \"**Plant Village**\" by *arjun tejaswi (2019)*\n",
        "\n",
        "Source: [Kaggle - Plant Village](https://www.kaggle.com/datasets/arjuntejaswi/plant-village)"
      ],
      "metadata": {
        "id": "jZ1YipwwjWYq"
      }
    },
    {
      "cell_type": "markdown",
      "source": [
        "# 1. Train datasets for crops and soil"
      ],
      "metadata": {
        "id": "WzfbznhK9WWr"
      }
    },
    {
      "cell_type": "code",
      "source": [
        "# Install all necessary third-party libraries in one go\n",
        "!pip install -q tensorflow matplotlib scikit-image opencv-python\n",
        "\n",
        "# Essential libraries\n",
        "import kagglehub # For importing the dataset.\n",
        "import numpy as np # Library for Numeric Computations in Python.\n",
        "import pandas as pd # Library for Data Acquisition and Preparation.\n",
        "import matplotlib.pyplot as plt # Low-level library for Data Visualization.\n",
        "import seaborn as sb # Higher-level library for Data Visualization.\n",
        "sb.set() # Set the default Seaborn style for graphics.\n",
        "\n",
        "import os\n",
        "import PIL\n",
        "import tensorflow as tf\n",
        "import cv2  # OpenCV for image processing\n",
        "from skimage.feature import graycomatrix, graycoprops, local_binary_pattern # For texture features\n",
        "\n",
        "from tensorflow import keras\n",
        "from tensorflow.keras import layers\n",
        "from tensorflow.keras.models import Sequential\n",
        "import pathlib"
      ],
      "metadata": {
        "id": "8HHfgsFh-KEk"
      },
      "execution_count": null,
      "outputs": []
    },
    {
      "cell_type": "code",
      "source": [
        "# Import plant dataset\n",
        "path = kagglehub.dataset_download(\"vipoooool/new-plant-diseases-dataset\")\n",
        "print(\"Path to plants dataset files:\", path)"
      ],
      "metadata": {
        "colab": {
          "base_uri": "https://localhost:8080/"
        },
        "id": "Rscs_BRJ-Ofm",
        "outputId": "105e34c1-4c66-469a-c688-ef17c7dfa020"
      },
      "execution_count": null,
      "outputs": [
        {
          "output_type": "stream",
          "name": "stdout",
          "text": [
            "Path to plants dataset files: /kaggle/input/new-plant-diseases-dataset\n"
          ]
        }
      ]
    },
    {
      "cell_type": "code",
      "source": [
        "# --- Kaggle Dataset Setup ---\n",
        "# This section handles the download of the dataset directly from Kaggle using the kagglehub library.\n",
        "# You will need to authenticate with Kaggle. In Colab, this is done by uploading your kaggle.json file.\n",
        "\n",
        "from google.colab import files\n",
        "import kagglehub\n",
        "\n",
        "# Authenticate with Kaggle\n",
        "# We check if the API key already exists to avoid asking for it on every run.\n",
        "if not os.path.exists('/root/.kaggle/kaggle.json'):\n",
        "    print(\"Please upload your kaggle.json file to authenticate with Kaggle.\")\n",
        "    # This will open a file upload dialog.\n",
        "    uploaded = files.upload()\n",
        "\n",
        "    # Check if the file was uploaded\n",
        "    if 'kaggle.json' in uploaded:\n",
        "        print(\"kaggle.json uploaded successfully.\")\n",
        "        # Set up the Kaggle directory and permissions\n",
        "        !mkdir -p ~/.kaggle\n",
        "        !cp kaggle.json ~/.kaggle/\n",
        "        !chmod 600 ~/.kaggle/kaggle.json\n",
        "    else:\n",
        "        # Stop execution if the key is not provided, as the download will fail.\n",
        "        raise Exception(\"kaggle.json was not uploaded. Please run this cell again to upload the file.\")\n",
        "else:\n",
        "    print(\"Kaggle API key found. Skipping upload.\")\n",
        "\n",
        "\n",
        "# Download the latest version of the dataset using KaggleHub\n",
        "print(\"\\nDownloading dataset using KaggleHub...\")\n",
        "dataset_path = kagglehub.dataset_download(\"vipoooool/new-plant-diseases-dataset\")\n",
        "print(\"Dataset downloaded to:\", dataset_path)"
      ],
      "metadata": {
        "colab": {
          "base_uri": "https://localhost:8080/"
        },
        "id": "PJvdKS5GGYJq",
        "outputId": "a82ace3b-01b2-4664-b162-37234c5ee0ee"
      },
      "execution_count": null,
      "outputs": [
        {
          "output_type": "stream",
          "name": "stdout",
          "text": [
            "Kaggle API key found. Skipping upload.\n",
            "\n",
            "Downloading dataset using KaggleHub...\n",
            "Dataset downloaded to: /kaggle/input/new-plant-diseases-dataset\n"
          ]
        }
      ]
    },
    {
      "cell_type": "code",
      "source": [
        "# --- 1. Data Loading and Preparation ---\n",
        "batch_size = 32\n",
        "img_height = 180\n",
        "img_width = 180\n",
        "\n",
        "# Define paths to the downloaded and unzipped dataset directories\n",
        "# The path from kagglehub points to the root of the unzipped dataset.\n",
        "base_dir = os.path.join(dataset_path, \"New Plant Diseases Dataset(Augmented)/New Plant Diseases Dataset(Augmented)\")\n",
        "train_dir = os.path.join(base_dir, \"train\")\n",
        "val_dir = os.path.join(base_dir, \"valid\")\n",
        "\n",
        "# Load the full datasets first to identify the classes we need\n",
        "# We set shuffle=False to ensure the class indices are consistent\n",
        "full_train_ds = tf.keras.utils.image_dataset_from_directory(\n",
        "    train_dir,\n",
        "    image_size=(img_height, img_width),\n",
        "    batch_size=batch_size,\n",
        "    shuffle=False\n",
        ")\n",
        "\n",
        "full_val_ds = tf.keras.utils.image_dataset_from_directory(\n",
        "    val_dir,\n",
        "    image_size=(img_height, img_width),\n",
        "    batch_size=batch_size,\n",
        "    shuffle=False\n",
        ")\n",
        "\n",
        "# Get all class names from the full dataset\n",
        "all_class_names = full_train_ds.class_names\n",
        "\n",
        "# Define the potato classes we are interested in and find their original indices\n",
        "potato_classes_to_keep = ['Potato___Early_blight', 'Potato___Late_blight', 'Potato___healthy']\n",
        "potato_indices = [i for i, cls in enumerate(all_class_names) if cls in potato_classes_to_keep]\n",
        "print(f\"\\nOriginal indices for potato classes: {potato_indices}\")\n",
        "\n",
        "# Create a mapping from the original indices (e.g., 25, 26, 27) to new ones (0, 1, 2)\n",
        "# This is crucial for the final layer of our model.\n",
        "index_map = {old_idx: new_idx for new_idx, old_idx in enumerate(potato_indices)}\n",
        "index_map_tensor = tf.lookup.StaticHashTable(\n",
        "    initializer=tf.lookup.KeyValueTensorInitializer(\n",
        "        keys=tf.constant(list(index_map.keys()), dtype=tf.int64),\n",
        "        values=tf.constant(list(index_map.values()), dtype=tf.int64),\n",
        "    ),\n",
        "    default_value=-1  # Use -1 for classes we want to discard\n",
        ")\n",
        "\n",
        "# Define functions to filter for potatoes and remap their labels\n",
        "def filter_and_remap_labels(image, label):\n",
        "    # Remap the label. If it's not a potato class, it becomes -1.\n",
        "    new_label = index_map_tensor.lookup(tf.cast(label, dtype=tf.int64))\n",
        "    # Keep the element only if the new label is not -1\n",
        "    return new_label != -1\n",
        "\n",
        "def remap_labels(image, label):\n",
        "    # This function applies the mapping to the labels that were kept\n",
        "    new_label = index_map_tensor.lookup(tf.cast(label, dtype=tf.int64))\n",
        "    return image, new_label\n",
        "\n",
        "# Apply the filtering and mapping to create our final datasets\n",
        "# We unbatch->filter(potatoes)->map(labels)->batch\n",
        "train_ds = full_train_ds.unbatch().filter(filter_and_remap_labels).map(remap_labels).batch(batch_size)\n",
        "val_ds = full_val_ds.unbatch().filter(filter_and_remap_labels).map(remap_labels).batch(batch_size)\n",
        "\n",
        "\n",
        "# Update class_names and num_classes for the rest of the script\n",
        "class_names = potato_classes_to_keep\n",
        "num_classes = len(class_names)\n",
        "print(f\"Filtered to {num_classes} classes: {class_names}\")"
      ],
      "metadata": {
        "colab": {
          "base_uri": "https://localhost:8080/"
        },
        "id": "otLsFUcKMRiG",
        "outputId": "d04e7a7a-fdb0-463e-c7ad-db30bc6faa8a"
      },
      "execution_count": null,
      "outputs": [
        {
          "output_type": "stream",
          "name": "stdout",
          "text": [
            "Found 70295 files belonging to 38 classes.\n",
            "Found 17572 files belonging to 38 classes.\n",
            "\n",
            "Original indices for potato classes: [20, 21, 22]\n",
            "Filtered to 3 classes: ['Potato___Early_blight', 'Potato___Late_blight', 'Potato___healthy']\n"
          ]
        }
      ]
    },
    {
      "cell_type": "code",
      "source": [
        "# --- 2. Spatial Transformer Network (STN) ---\n",
        "# An STN is a learnable module that can be inserted into a CNN. It learns to perform\n",
        "# spatial transformations (like scaling, cropping, rotation) on an input feature map\n",
        "# to make the model more robust to these variations.\n",
        "\n",
        "class SpatialTransformer(layers.Layer):\n",
        "    def __init__(self, **kwargs):\n",
        "        super(SpatialTransformer, self).__init__(**kwargs)\n",
        "        # Localization network to predict transformation parameters\n",
        "        self.localization_net = Sequential([\n",
        "            layers.Conv2D(8, kernel_size=7, activation='relu'),\n",
        "            layers.MaxPooling2D(pool_size=2, strides=2),\n",
        "            layers.Conv2D(10, kernel_size=5, activation='relu'),\n",
        "            layers.MaxPooling2D(pool_size=2, strides=2),\n",
        "            layers.Flatten(),\n",
        "            layers.Dense(32, activation='relu'),\n",
        "            # Output 6 parameters for the affine transformation matrix\n",
        "            # The 'kernel_size' argument is removed as it's not valid for a Dense layer.\n",
        "            layers.Dense(6, bias_initializer=tf.keras.initializers.Constant([1.0, 0.0, 0.0, 0.0, 1.0, 0.0]))\n",
        "        ])\n",
        "\n",
        "    def call(self, inputs):\n",
        "        # Pass input through the localization network to get transformation matrix\n",
        "        theta = self.localization_net(inputs)\n",
        "        # Reshape to a 2x3 matrix\n",
        "        theta = tf.reshape(theta, [-1, 2, 3])\n",
        "\n",
        "        # Get the shape of the input\n",
        "        input_shape = tf.shape(inputs)\n",
        "        batch_size, height, width = input_shape[0], input_shape[1], input_shape[2]\n",
        "\n",
        "        # Generate a grid of coordinates\n",
        "        x = tf.linspace(-1.0, 1.0, width)\n",
        "        y = tf.linspace(-1.0, 1.0, height)\n",
        "        x_t, y_t = tf.meshgrid(x, y)\n",
        "\n",
        "        # Flatten the grid\n",
        "        x_t_flat = tf.reshape(x_t, [-1])\n",
        "        y_t_flat = tf.reshape(y_t, [-1])\n",
        "        ones = tf.ones_like(x_t_flat)\n",
        "        sampling_grid = tf.stack([x_t_flat, y_t_flat, ones])\n",
        "        sampling_grid = tf.expand_dims(sampling_grid, axis=0)\n",
        "        sampling_grid = tf.tile(sampling_grid, tf.stack([batch_size, 1, 1]))\n",
        "\n",
        "        # Transform the grid using the predicted theta\n",
        "        batch_grid = tf.matmul(theta, sampling_grid)\n",
        "        batch_grid = tf.reshape(batch_grid, [batch_size, 2, height, width])\n",
        "\n",
        "        x_s = batch_grid[:, 0, :, :]\n",
        "        y_s = batch_grid[:, 1, :, :]\n",
        "\n",
        "        # Sample the input image using the transformed grid\n",
        "        # This requires a function similar to `tf.contrib.resampler` or `tfa.image.resampler`\n",
        "        # Here we use a simplified bilinear interpolation for demonstration.\n",
        "        x = tf.cast((x_s + 1.0) * 0.5 * tf.cast(width, 'float32'), 'int32')\n",
        "        y = tf.cast((y_s + 1.0) * 0.5 * tf.cast(height, 'float32'), 'int32')\n",
        "\n",
        "        x = tf.clip_by_value(x, 0, width - 1)\n",
        "        y = tf.clip_by_value(y, 0, height - 1)\n",
        "\n",
        "        # Gather pixels\n",
        "        batch_idx = tf.range(0, batch_size)\n",
        "        batch_idx = tf.reshape(batch_idx, (batch_size, 1, 1))\n",
        "        b = tf.tile(batch_idx, (1, height, width))\n",
        "        indices = tf.stack([b, y, x], 3)\n",
        "\n",
        "        return tf.gather_nd(inputs, indices)"
      ],
      "metadata": {
        "id": "1HpRq3wzPJVI"
      },
      "execution_count": null,
      "outputs": []
    },
    {
      "cell_type": "code",
      "source": [
        "# --- 3. Build the CNN Model with STN ---\n",
        "\n",
        "model = Sequential([\n",
        "  # Rescale pixels to [0, 1]\n",
        "  layers.Rescaling(1./255, input_shape=(img_height, img_width, 3)),\n",
        "\n",
        "  # Add the Spatial Transformer Network to align the images\n",
        "  SpatialTransformer(),\n",
        "\n",
        "  # Convolutional blocks\n",
        "  layers.Conv2D(16, 3, padding='same', activation='relu'),\n",
        "  layers.MaxPooling2D(),\n",
        "  layers.Conv2D(32, 3, padding='same', activation='relu'),\n",
        "  layers.MaxPooling2D(),\n",
        "  layers.Conv2D(64, 3, padding='same', activation='relu'),\n",
        "  layers.MaxPooling2D(),\n",
        "  layers.Dropout(0.2),\n",
        "\n",
        "  # Flatten and Dense layers\n",
        "  layers.Flatten(),\n",
        "  layers.Dense(128, activation='relu'),\n",
        "  layers.Dense(num_classes)\n",
        "])"
      ],
      "metadata": {
        "colab": {
          "base_uri": "https://localhost:8080/"
        },
        "id": "hNtWXrjkPM90",
        "outputId": "26b616b0-ae49-481e-9a30-34cddc793633"
      },
      "execution_count": null,
      "outputs": [
        {
          "output_type": "stream",
          "name": "stderr",
          "text": [
            "/usr/local/lib/python3.11/dist-packages/keras/src/layers/preprocessing/tf_data_layer.py:19: UserWarning: Do not pass an `input_shape`/`input_dim` argument to a layer. When using Sequential models, prefer using an `Input(shape)` object as the first layer in the model instead.\n",
            "  super().__init__(**kwargs)\n"
          ]
        }
      ]
    },
    {
      "cell_type": "code",
      "source": [
        "# --- 4. Visualize the Effect of the STN ---\n",
        "# This section visualizes how the STN processes the images before they reach the main CNN.\n",
        "print(\"\\nVisualizing random samples after STN processing...\")\n",
        "\n",
        "# Create a shuffled version of the training dataset for random sampling\n",
        "shuffled_train_ds = train_ds.unbatch().shuffle(buffer_size=2000)\n",
        "\n",
        "# Create a dictionary to hold the sample images and labels for each class\n",
        "samples = {class_name: [] for class_name in class_names}\n",
        "samples_needed = 3\n",
        "sample_images_list = []\n",
        "sample_labels_list = []\n",
        "\n",
        "# Iterate through the shuffled dataset to find samples\n",
        "for image, label in shuffled_train_ds:\n",
        "    class_name = class_names[label]\n",
        "    if len(samples[class_name]) < samples_needed:\n",
        "        samples[class_name].append((image, label))\n",
        "        sample_images_list.append(image)\n",
        "        sample_labels_list.append(label)\n",
        "\n",
        "    # Check if we have collected enough samples for all classes\n",
        "    if all(len(s) == samples_needed for s in samples.values()):\n",
        "        break\n",
        "\n",
        "# Create a temporary model that only contains the STN to process the images\n",
        "stn_model = Sequential([\n",
        "    layers.Rescaling(1./255, input_shape=(img_height, img_width, 3)),\n",
        "    SpatialTransformer()\n",
        "])\n",
        "\n",
        "# Stack the collected images into a single batch\n",
        "sample_images_batch = tf.stack(sample_images_list)\n",
        "# Get the transformed images by passing the batch through the STN model\n",
        "transformed_images = stn_model.predict(sample_images_batch)\n",
        "\n",
        "# Plot the transformed samples\n",
        "plt.figure(figsize=(10, 10))\n",
        "for i in range(9):\n",
        "    ax = plt.subplot(3, 3, i + 1)\n",
        "    # We multiply by 255 to bring the pixel values back to the displayable 0-255 range\n",
        "    plt.imshow(transformed_images[i] * 255)\n",
        "    plt.title(class_names[sample_labels_list[i]])\n",
        "    plt.axis(\"off\")\n",
        "plt.suptitle(\"Sample Images After Spatial Transformer Network Processing\")\n",
        "plt.show()"
      ],
      "metadata": {
        "colab": {
          "base_uri": "https://localhost:8080/",
          "height": 1000
        },
        "id": "XJvnQqlnPs67",
        "outputId": "f7cad2d8-4df4-4e98-ceb5-98c96d28fa22"
      },
      "execution_count": null,
      "outputs": [
        {
          "output_type": "stream",
          "name": "stdout",
          "text": [
            "\n",
            "Visualizing random samples after STN processing...\n"
          ]
        },
        {
          "output_type": "stream",
          "name": "stderr",
          "text": [
            "/usr/local/lib/python3.11/dist-packages/keras/src/layers/preprocessing/tf_data_layer.py:19: UserWarning: Do not pass an `input_shape`/`input_dim` argument to a layer. When using Sequential models, prefer using an `Input(shape)` object as the first layer in the model instead.\n",
            "  super().__init__(**kwargs)\n"
          ]
        },
        {
          "output_type": "stream",
          "name": "stdout",
          "text": [
            "\u001b[1m1/1\u001b[0m \u001b[32m━━━━━━━━━━━━━━━━━━━━\u001b[0m\u001b[37m\u001b[0m \u001b[1m0s\u001b[0m 348ms/step\n"
          ]
        },
        {
          "output_type": "stream",
          "name": "stderr",
          "text": [
            "WARNING:matplotlib.image:Clipping input data to the valid range for imshow with RGB data ([0..1] for floats or [0..255] for integers). Got range [0.0..248.96259].\n",
            "WARNING:matplotlib.image:Clipping input data to the valid range for imshow with RGB data ([0..1] for floats or [0..255] for integers). Got range [0.0..250.23].\n",
            "WARNING:matplotlib.image:Clipping input data to the valid range for imshow with RGB data ([0..1] for floats or [0..255] for integers). Got range [0.0..251.69798].\n",
            "WARNING:matplotlib.image:Clipping input data to the valid range for imshow with RGB data ([0..1] for floats or [0..255] for integers). Got range [0.0..241.75148].\n",
            "WARNING:matplotlib.image:Clipping input data to the valid range for imshow with RGB data ([0..1] for floats or [0..255] for integers). Got range [0.0..212.12192].\n",
            "WARNING:matplotlib.image:Clipping input data to the valid range for imshow with RGB data ([0..1] for floats or [0..255] for integers). Got range [4.91604..172.10513].\n",
            "WARNING:matplotlib.image:Clipping input data to the valid range for imshow with RGB data ([0..1] for floats or [0..255] for integers). Got range [10.777818..250.32224].\n",
            "WARNING:matplotlib.image:Clipping input data to the valid range for imshow with RGB data ([0..1] for floats or [0..255] for integers). Got range [0.0722046..245.77336].\n",
            "WARNING:matplotlib.image:Clipping input data to the valid range for imshow with RGB data ([0..1] for floats or [0..255] for integers). Got range [0.0..250.42186].\n"
          ]
        },
        {
          "output_type": "display_data",
          "data": {
            "text/plain": [
              "<Figure size 1000x1000 with 9 Axes>"
            ],
            "image/png": "[encoded data removed]"
          },
          "metadata": {}
        }
      ]
    },
    {
      "cell_type": "markdown",
      "source": [
        "# 2. Analyse input images of crops and soil"
      ],
      "metadata": {
        "id": "g15g1wy29gLm"
      }
    },
    {
      "cell_type": "markdown",
      "source": [
        "# 3. Give feedback from inputs"
      ],
      "metadata": {
        "id": "akBt0Rn_9qid"
      }
    }
  ]
}